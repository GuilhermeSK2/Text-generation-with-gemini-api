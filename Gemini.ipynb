{
  "nbformat": 4,
  "nbformat_minor": 0,
  "metadata": {
    "colab": {
      "provenance": [],
      "authorship_tag": "ABX9TyMH+wdrGTi+W1u6h89G7s61"
    },
    "kernelspec": {
      "name": "python3",
      "display_name": "Python 3"
    },
    "language_info": {
      "name": "python"
    }
  },
  "cells": [
    {
      "cell_type": "code",
      "execution_count": 1,
      "metadata": {
        "id": "i1BXbb_aRm6c"
      },
      "outputs": [],
      "source": [
        "import google.generativeai as genai"
      ]
    },
    {
      "cell_type": "code",
      "source": [
        "genai.configure(api_key=\"Cole_sua_chave_aqui\")"
      ],
      "metadata": {
        "id": "GQrjN3aESMSj"
      },
      "execution_count": 2,
      "outputs": []
    },
    {
      "cell_type": "code",
      "source": [
        "model = genai.GenerativeModel(\"gemini-2.0-flash\")\n",
        "conversation = \"Você é um assitente útil que responde de maneira clara e objetiva.\" + \"Cite uma frase de Ayrton Senna\"\n",
        "response = model.generate_content(conversation)"
      ],
      "metadata": {
        "id": "Nwo4au6USS7d"
      },
      "execution_count": 23,
      "outputs": []
    },
    {
      "cell_type": "code",
      "source": [
        "print(response.text.strip())"
      ],
      "metadata": {
        "colab": {
          "base_uri": "https://localhost:8080/"
        },
        "id": "gmcqd79lTSEi",
        "outputId": "00e10b81-8ef7-4d26-a8fe-88b0102d5973"
      },
      "execution_count": 24,
      "outputs": [
        {
          "output_type": "stream",
          "name": "stdout",
          "text": [
            "\"Se você não for buscar cada espaço que existe, você não é um piloto de corrida.\"\n"
          ]
        }
      ]
    }
  ]
}